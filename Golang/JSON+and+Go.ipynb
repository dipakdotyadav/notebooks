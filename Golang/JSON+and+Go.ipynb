{
 "cells": [
  {
   "cell_type": "markdown",
   "metadata": {},
   "source": [
    "# Introduction\n",
    "\n"
   ]
  },
  {
   "cell_type": "markdown",
   "metadata": {},
   "source": [
    "JSON (JavaScript Object Notation) is a simple data interchange format. Syntactically it resembles the objects and lists of JavaScript. It is most commonly used for communication between web back-ends and JavaScript programs running in the browser, but it is used in many other places, too. Its home page, [json.org](http://json.org/), provides a wonderfully clear and concise definition of the standard.\n",
    "\n",
    "With the [json package](http://golang.org/pkg/encoding/json/) it's a snap to read and write JSON data from your Go programs."
   ]
  },
  {
   "cell_type": "markdown",
   "metadata": {},
   "source": [
    "# Encoding"
   ]
  },
  {
   "cell_type": "markdown",
   "metadata": {},
   "source": [
    "To encode JSON data we use the Marshal function."
   ]
  },
  {
   "cell_type": "code",
   "execution_count": 173,
   "metadata": {
    "collapsed": true
   },
   "outputs": [],
   "source": [
    "import \"encoding/json\"\n",
    "import \"fmt\"\n",
    "import \"io\""
   ]
  },
  {
   "cell_type": "code",
   "execution_count": 174,
   "metadata": {},
   "outputs": [],
   "source": [
    "func Marshal(v interface{}) ([]byte, error)"
   ]
  },
  {
   "cell_type": "markdown",
   "metadata": {},
   "source": [
    "Given the Go data structure, Message,"
   ]
  },
  {
   "cell_type": "code",
   "execution_count": 175,
   "metadata": {
    "collapsed": true
   },
   "outputs": [],
   "source": [
    "type Message struct {\n",
    "    Name string\n",
    "    Body string\n",
    "    Time int64\n",
    "}"
   ]
  },
  {
   "cell_type": "markdown",
   "metadata": {},
   "source": [
    "and an instance of Message"
   ]
  },
  {
   "cell_type": "code",
   "execution_count": 176,
   "metadata": {
    "collapsed": true
   },
   "outputs": [],
   "source": [
    "m := Message{\"Alice\", \"Hello\", 1294706395881547000}"
   ]
  },
  {
   "cell_type": "markdown",
   "metadata": {},
   "source": [
    "we can marshal a JSON-encoded version of m using json.Marshal:"
   ]
  },
  {
   "cell_type": "code",
   "execution_count": 177,
   "metadata": {},
   "outputs": [
    {
     "name": "stdout",
     "output_type": "stream",
     "text": [
      "{\"Name\":\"Alice\",\"Body\":\"Hello\",\"Time\":1294706395881547000}\n"
     ]
    },
    {
     "data": {
      "text/plain": [
       "59 <nil>"
      ]
     },
     "execution_count": 177,
     "metadata": {},
     "output_type": "execute_result"
    }
   ],
   "source": [
    "b, err := json.Marshal(m)\n",
    "fmt.Println(string(b[:]))"
   ]
  },
  {
   "cell_type": "markdown",
   "metadata": {},
   "source": [
    "If all is well, err will be nil and b will be a []byte containing this JSON data:"
   ]
  },
  {
   "cell_type": "code",
   "execution_count": 193,
   "metadata": {},
   "outputs": [
    {
     "ename": "ERROR",
     "evalue": "runtime error: comparing uncomparable type []uint8",
     "output_type": "error",
     "traceback": [
      "runtime error: comparing uncomparable type []uint8"
     ]
    }
   ],
   "source": [
    "b == []byte(`{\"Name\":\"Alice\",\"Body\":\"Hello\",\"Time\":1294706395881547000}`)"
   ]
  },
  {
   "cell_type": "markdown",
   "metadata": {},
   "source": [
    "Only data structures that can be represented as valid JSON will be encoded:\n",
    "\n",
    "* JSON objects only support strings as keys; to encode a Go map type it must be of the form map[string]T (where T is any Go type supported by the json package).\n",
    "* Channel, complex, and function types cannot be encoded.\n",
    "* Cyclic data structures are not supported; they will cause Marshal to go into an infinite loop.\n",
    "* Pointers will be encoded as the values they point to (or 'null' if the pointer is nil).\n",
    "\n",
    "The json package only accesses the exported fields of struct types (those that begin with an uppercase letter). Therefore only the the exported fields of a struct will be present in the JSON output."
   ]
  },
  {
   "cell_type": "markdown",
   "metadata": {},
   "source": [
    "# Decoding"
   ]
  },
  {
   "cell_type": "markdown",
   "metadata": {},
   "source": [
    "To decode JSON data we use the [Unmarshal](http://golang.org/pkg/encoding/json/#Unmarshal) function."
   ]
  },
  {
   "cell_type": "code",
   "execution_count": 179,
   "metadata": {
    "collapsed": true
   },
   "outputs": [],
   "source": [
    "func Unmarshal(data []byte, v interface{}) error"
   ]
  },
  {
   "cell_type": "markdown",
   "metadata": {},
   "source": [
    "We must first create a place where the decoded data will be stored"
   ]
  },
  {
   "cell_type": "code",
   "execution_count": 180,
   "metadata": {
    "collapsed": true
   },
   "outputs": [],
   "source": [
    "var m Message"
   ]
  },
  {
   "cell_type": "markdown",
   "metadata": {},
   "source": [
    "and call json.Unmarshal, passing it a []byte of JSON data and a pointer to m"
   ]
  },
  {
   "cell_type": "code",
   "execution_count": 181,
   "metadata": {
    "collapsed": true
   },
   "outputs": [],
   "source": [
    "err := json.Unmarshal(b, &m)"
   ]
  },
  {
   "cell_type": "markdown",
   "metadata": {},
   "source": [
    "If b contains valid JSON that fits in m, after the call err will be nil and the data from b will have been stored in the struct m, as if by an assignment like:\n",
    "\n",
    "```\n",
    "m = Message{\n",
    "    Name: \"Alice\",\n",
    "    Body: \"Hello\",\n",
    "    Time: 1294706395881547000,\n",
    "}\n",
    "```"
   ]
  },
  {
   "cell_type": "code",
   "execution_count": 182,
   "metadata": {},
   "outputs": [
    {
     "name": "stdout",
     "output_type": "stream",
     "text": [
      "{Alice Hello 1294706395881547000}\n"
     ]
    },
    {
     "data": {
      "text/plain": [
       "34 <nil>"
      ]
     },
     "execution_count": 182,
     "metadata": {},
     "output_type": "execute_result"
    }
   ],
   "source": [
    "fmt.Println(m)"
   ]
  },
  {
   "cell_type": "markdown",
   "metadata": {},
   "source": [
    "How does Unmarshal identify the fields in which to store the decoded data? For a given JSON key \"Foo\", Unmarshal will look through the destination struct's fields to find (in order of preference):\n",
    "\n",
    "* An exported field with a tag of \"Foo\" (see the [Go spec](http://golang.org/ref/spec#Struct_types) for more on struct tags),\n",
    "* An exported field named \"Foo\", or\n",
    "* An exported field named \"FOO\" or \"FoO\" or some other case-insensitive match of \"Foo\".\n",
    "\n",
    "What happens when the structure of the JSON data doesn't exactly match the Go type?"
   ]
  },
  {
   "cell_type": "code",
   "execution_count": 183,
   "metadata": {},
   "outputs": [
    {
     "name": "stdout",
     "output_type": "stream",
     "text": [
      "{Bob  0}\n"
     ]
    },
    {
     "data": {
      "text/plain": [
       "9 <nil>"
      ]
     },
     "execution_count": 183,
     "metadata": {},
     "output_type": "execute_result"
    }
   ],
   "source": [
    "b := []byte(`{\"Name\":\"Bob\",\"Food\":\"Pickle\"}`)\n",
    "var m Message\n",
    "err := json.Unmarshal(b, &m)\n",
    "fmt.Println(m)"
   ]
  },
  {
   "cell_type": "markdown",
   "metadata": {},
   "source": [
    "Unmarshal will decode only the fields that it can find in the destination type. In this case, only the Name field of m will be populated, and the Food field will be ignored. This behavior is particularly useful when you wish to pick only a few specific fields out of a large JSON blob. It also means that any unexported fields in the destination struct will be unaffected by Unmarshal.\n",
    "\n",
    "But what if you don't know the structure of your JSON data beforehand?"
   ]
  },
  {
   "cell_type": "markdown",
   "metadata": {},
   "source": [
    "# Generic JSON with interface{}"
   ]
  },
  {
   "cell_type": "markdown",
   "metadata": {},
   "source": [
    "The interface{} (empty interface) type describes an interface with zero methods. Every Go type implements at least zero methods and therefore satisfies the empty interface.\n",
    "\n",
    "The empty interface serves as a general container type:"
   ]
  },
  {
   "cell_type": "code",
   "execution_count": 184,
   "metadata": {
    "collapsed": true
   },
   "outputs": [],
   "source": [
    "var i interface{}\n",
    "i = \"a string\"\n",
    "i = 2011\n",
    "i = 2.777"
   ]
  },
  {
   "cell_type": "markdown",
   "metadata": {},
   "source": [
    "A type assertion accesses the underlying concrete type:"
   ]
  },
  {
   "cell_type": "code",
   "execution_count": 185,
   "metadata": {},
   "outputs": [
    {
     "name": "stdout",
     "output_type": "stream",
     "text": [
      "the circle's area 24.227111172875365\n"
     ]
    },
    {
     "data": {
      "text/plain": [
       "37 <nil>"
      ]
     },
     "execution_count": 185,
     "metadata": {},
     "output_type": "execute_result"
    }
   ],
   "source": [
    "import \"math\"\n",
    "r := i.(float64)\n",
    "fmt.Println(\"the circle's area\", math.Pi*r*r)"
   ]
  },
  {
   "cell_type": "markdown",
   "metadata": {},
   "source": [
    "Or, if the underlying type is unknown, a type switch determines the type:"
   ]
  },
  {
   "cell_type": "code",
   "execution_count": 186,
   "metadata": {},
   "outputs": [
    {
     "name": "stdout",
     "output_type": "stream",
     "text": [
      "the reciprocal of i is 0.3601008282319049\n"
     ]
    }
   ],
   "source": [
    "switch v := i.(type) {\n",
    "case int:\n",
    "    fmt.Println(\"twice i is\", v*2)\n",
    "case float64:\n",
    "    fmt.Println(\"the reciprocal of i is\", 1/v)\n",
    "case string:\n",
    "    h := len(v) / 2\n",
    "    fmt.Println(\"i swapped by halves is\", v[h:]+v[:h])\n",
    "default:\n",
    "    // i isn't one of the types above\n",
    "}"
   ]
  },
  {
   "cell_type": "markdown",
   "metadata": {},
   "source": [
    "The json package uses map[string]interface{} and []interface{} values to store arbitrary JSON objects and arrays; it will happily unmarshal any valid JSON blob into a plain interface{} value. The default concrete Go types are:\n",
    "\n",
    "* bool for JSON booleans,\n",
    "* float64 for JSON numbers,\n",
    "* string for JSON strings, and\n",
    "* nil for JSON null."
   ]
  },
  {
   "cell_type": "markdown",
   "metadata": {},
   "source": [
    "# Decoding arbitrary data"
   ]
  },
  {
   "cell_type": "markdown",
   "metadata": {},
   "source": [
    "Consider this JSON data, stored in the variable b:"
   ]
  },
  {
   "cell_type": "code",
   "execution_count": 187,
   "metadata": {
    "collapsed": true
   },
   "outputs": [],
   "source": [
    "b := []byte(`{\"Name\":\"Wednesday\",\"Age\":6,\"Parents\":[\"Gomez\",\"Morticia\"]}`)"
   ]
  },
  {
   "cell_type": "markdown",
   "metadata": {},
   "source": [
    "Without knowing this data's structure, we can decode it into an interface{} value with Unmarshal:"
   ]
  },
  {
   "cell_type": "code",
   "execution_count": 188,
   "metadata": {},
   "outputs": [
    {
     "name": "stdout",
     "output_type": "stream",
     "text": [
      "map[Name:Wednesday Age:6 Parents:[Gomez Morticia]]\n"
     ]
    },
    {
     "data": {
      "text/plain": [
       "51 <nil>"
      ]
     },
     "execution_count": 188,
     "metadata": {},
     "output_type": "execute_result"
    }
   ],
   "source": [
    "var f interface{}\n",
    "err := json.Unmarshal(b, &f)\n",
    "fmt.Println(f)"
   ]
  },
  {
   "cell_type": "markdown",
   "metadata": {},
   "source": [
    "At this point the Go value in f would be a map whose keys are strings and whose values are themselves stored as empty interface values:\n",
    "\n",
    "```\n",
    "f = map[string]interface{}{\n",
    "    \"Name\": \"Wednesday\",\n",
    "    \"Age\":  6,\n",
    "    \"Parents\": []interface{}{\n",
    "        \"Gomez\",\n",
    "        \"Morticia\",\n",
    "    },\n",
    "}\n",
    "```"
   ]
  },
  {
   "cell_type": "markdown",
   "metadata": {},
   "source": [
    "To access this data we can use a type assertion to access f's underlying map[string]interface{}:"
   ]
  },
  {
   "cell_type": "code",
   "execution_count": 189,
   "metadata": {
    "collapsed": true
   },
   "outputs": [],
   "source": [
    "m := f.(map[string]interface{})"
   ]
  },
  {
   "cell_type": "markdown",
   "metadata": {},
   "source": [
    "We can then iterate through the map with a range statement and use a type switch to access its values as their concrete types:"
   ]
  },
  {
   "cell_type": "code",
   "execution_count": 190,
   "metadata": {},
   "outputs": [
    {
     "name": "stdout",
     "output_type": "stream",
     "text": [
      "Age is float64 6\n",
      "Parents is an array:\n",
      "0 Gomez\n",
      "1 Morticia\n",
      "Name is string Wednesday\n"
     ]
    }
   ],
   "source": [
    "for k, v := range m {\n",
    "    switch vv := v.(type) {\n",
    "    case string:\n",
    "        fmt.Println(k, \"is string\", vv)\n",
    "    case float64:\n",
    "        fmt.Println(k, \"is float64\", vv)\n",
    "    case []interface{}:\n",
    "        fmt.Println(k, \"is an array:\")\n",
    "        for i, u := range vv {\n",
    "            fmt.Println(i, u)\n",
    "        }\n",
    "    default:\n",
    "        fmt.Println(k, \"is of a type I don't know how to handle\")\n",
    "    }\n",
    "}"
   ]
  },
  {
   "cell_type": "markdown",
   "metadata": {},
   "source": [
    "In this way you can work with unknown JSON data while still enjoying the benefits of type safety."
   ]
  },
  {
   "cell_type": "markdown",
   "metadata": {},
   "source": [
    "# Reference Types"
   ]
  },
  {
   "cell_type": "markdown",
   "metadata": {},
   "source": [
    "Let's define a Go type to contain the data from the previous example:"
   ]
  },
  {
   "cell_type": "code",
   "execution_count": 191,
   "metadata": {},
   "outputs": [
    {
     "name": "stdout",
     "output_type": "stream",
     "text": [
      "{Wednesday 6 [Gomez Morticia]}\n"
     ]
    },
    {
     "data": {
      "text/plain": [
       "31 <nil>"
      ]
     },
     "execution_count": 191,
     "metadata": {},
     "output_type": "execute_result"
    }
   ],
   "source": [
    "type FamilyMember struct {\n",
    "    Name    string\n",
    "    Age     int\n",
    "    Parents []string\n",
    "}\n",
    "\n",
    "    var m FamilyMember\n",
    "    err := json.Unmarshal(b, &m)\n",
    "fmt.Println(m)"
   ]
  },
  {
   "cell_type": "markdown",
   "metadata": {},
   "source": [
    "Unmarshaling that data into a FamilyMember value works as expected, but if we look closely we can see a remarkable thing has happened. With the var statement we allocated a FamilyMember struct, and then provided a pointer to that value to Unmarshal, but at that time the Parents field was a nil slice value. To populate the Parents field, Unmarshal allocated a new slice behind the scenes. This is typical of how Unmarshal works with the supported reference types (pointers, slices, and maps).\n",
    "\n",
    "Consider unmarshaling into this data structure:\n",
    "\n",
    "```\n",
    "type Foo struct {\n",
    "    Bar *Bar\n",
    "}\n",
    "```\n",
    "\n",
    "If there were a Bar field in the JSON object, Unmarshal would allocate a new Bar and populate it. If not, Bar would be left as a nil pointer.\n",
    "\n",
    "From this a useful pattern arises: if you have an application that receives a few distinct message types, you might define \"receiver\" structure like\n",
    "\n",
    "```\n",
    "type IncomingMessage struct {\n",
    "    Cmd *Command\n",
    "    Msg *Message\n",
    "}\n",
    "```\n",
    "\n",
    "\n",
    "and the sending party can populate the Cmd field and/or the Msg field of the top-level JSON object, depending on the type of message they want to communicate. Unmarshal, when decoding the JSON into an IncomingMessage struct, will only allocate the data structures present in the JSON data. To know which messages to process, the programmer need simply test that either Cmd or Msg is not nil.\n"
   ]
  },
  {
   "cell_type": "markdown",
   "metadata": {},
   "source": [
    "# Streaming Encoders and Decoders"
   ]
  },
  {
   "cell_type": "markdown",
   "metadata": {},
   "source": [
    "The json package provides Decoder and Encoder types to support the common operation of reading and writing streams of JSON data. The NewDecoder and NewEncoder functions wrap the io.Reader and io.Writer interface types.\n",
    "\n",
    "```\n",
    "func NewDecoder(r io.Reader) *Decoder\n",
    "func NewEncoder(w io.Writer) *Encoder\n",
    "```"
   ]
  },
  {
   "cell_type": "markdown",
   "metadata": {},
   "source": [
    "Here's an example program that reads a series of JSON objects from standard input, removes all but the Name field from each object, and then writes the objects to standard output:"
   ]
  },
  {
   "cell_type": "code",
   "execution_count": 192,
   "metadata": {},
   "outputs": [],
   "source": [
    "\n",
    "import (\n",
    "    \"encoding/json\"\n",
    "    \"log\"\n",
    "    \"os\"\n",
    ")\n",
    "\n",
    "func main() {\n",
    "    dec := json.NewDecoder(os.Stdin)\n",
    "    enc := json.NewEncoder(os.Stdout)\n",
    "    for {\n",
    "        var v map[string]interface{}\n",
    "        if err := dec.Decode(&v); err != nil {\n",
    "            log.Println(err)\n",
    "            return\n",
    "        }\n",
    "        for k := range v {\n",
    "            if k != \"Name\" {\n",
    "                delete(v, k)\n",
    "            }\n",
    "        }\n",
    "        if err := enc.Encode(&v); err != nil {\n",
    "            log.Println(err)\n",
    "        }\n",
    "    }\n",
    "}"
   ]
  },
  {
   "cell_type": "markdown",
   "metadata": {},
   "source": [
    "Due to the ubiquity of Readers and Writers, these Encoder and Decoder types can be used in a broad range of scenarios, such as reading and writing to HTTP connections, WebSockets, or files."
   ]
  },
  {
   "cell_type": "markdown",
   "metadata": {},
   "source": [
    "# References"
   ]
  },
  {
   "cell_type": "markdown",
   "metadata": {},
   "source": [
    "\n",
    "For more information see the [json package documentation](http://golang.org/pkg/encoding/json/). For an example usage of json see the source files of the [jsonrpc package](http://golang.org/pkg/net/rpc/jsonrpc/).\n",
    "\n",
    "By Andrew Gerrand"
   ]
  }
 ],
 "metadata": {
  "kernelspec": {
   "display_name": "Go",
   "language": "go",
   "name": "gophernotes"
  },
  "language_info": {
   "codemirror_mode": "",
   "file_extension": ".go",
   "mimetype": "",
   "name": "go",
   "nbconvert_exporter": "",
   "pygments_lexer": "",
   "version": "go1.8.3"
  }
 },
 "nbformat": 4,
 "nbformat_minor": 2
}
